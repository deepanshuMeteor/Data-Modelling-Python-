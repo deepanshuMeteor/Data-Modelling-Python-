{
 "cells": [
  {
   "cell_type": "markdown",
   "metadata": {},
   "source": [
    "# Guided Task 2: Selection"
   ]
  },
  {
   "cell_type": "markdown",
   "metadata": {},
   "source": [
    "## Objective\n",
    "\n",
    "This guided task is made up of two parts.\n",
    "\n",
    "In the first part, you'll use conditional if…elif control flow statements in Python.\n",
    "\n",
    "In the second part, you’ll create several pieces of code in four distinct exercises.\n",
    "\n",
    "You'll practice what you've learnt and create more complex code."
   ]
  },
  {
   "cell_type": "markdown",
   "metadata": {},
   "source": [
    "### Part 1"
   ]
  },
  {
   "cell_type": "code",
   "execution_count": 4,
   "metadata": {},
   "outputs": [
    {
     "name": "stdout",
     "output_type": "stream",
     "text": [
      "Please enter your namePrathna Singh\n",
      "Please enter your age19\n",
      "Prathna Singh is 19 years old\n"
     ]
    }
   ],
   "source": [
    "# Using the code from the first guided task:\n",
    "\n",
    "username=input('Please enter your name')\n",
    "age = int(input('Please enter your age'))\n",
    "print(username,'is',age,'years old')"
   ]
  },
  {
   "cell_type": "markdown",
   "metadata": {},
   "source": [
    "The general Python syntax for a simple if statement is:\n",
    "\n",
    "if condition :\n",
    "<br>\n",
    "&emsp;indentedStatementBlock\n",
    "\n",
    "Create an __IF statement__ to see if the person’s age is equal to 18 or over. \n",
    "<br>\n",
    "Display 'You are in category A' "
   ]
  },
  {
   "cell_type": "code",
   "execution_count": 5,
   "metadata": {},
   "outputs": [
    {
     "name": "stdout",
     "output_type": "stream",
     "text": [
      "You are in category A\n"
     ]
    }
   ],
   "source": []
  },
  {
   "cell_type": "markdown",
   "metadata": {},
   "source": [
    "Create an __IF statement__ to see if the person’s age is equal to 16 or over. \n",
    "<br>\n",
    "Display 'You are in category B' "
   ]
  },
  {
   "cell_type": "code",
   "execution_count": 6,
   "metadata": {},
   "outputs": [
    {
     "name": "stdout",
     "output_type": "stream",
     "text": [
      "You are in category B\n"
     ]
    }
   ],
   "source": []
  },
  {
   "cell_type": "markdown",
   "metadata": {},
   "source": [
    "Create an __IF statement__ to see if the person is under 16 years of age. \n",
    "<br>\n",
    "Display 'You are in category C' "
   ]
  },
  {
   "cell_type": "code",
   "execution_count": 7,
   "metadata": {},
   "outputs": [],
   "source": []
  },
  {
   "cell_type": "markdown",
   "metadata": {},
   "source": [
    "Go back and run the first bit of the code and enter 19 for age\n",
    "\n",
    "As you see, there are too many confusing messages!\n",
    "<br>\n",
    "Simple IF statements work fine, but not in a chain of IF statements such asthese. For chain, we need to use an __if…elif__ statement. \n",
    "\n",
    "Create an __if…elif__ statement to examine the age in one statement. Follow this\n",
    "pattern:\n",
    "\n",
    "if person is 18 and over:\n",
    "<br>\n",
    "&emsp;display message\n",
    "<br>\n",
    "elif person is 16 and over:\n",
    "<br>\n",
    "&emsp;display message\n",
    "<br>\n",
    "else:\n",
    "<br>\n",
    "&emsp;display message\n",
    "\n",
    "__Note:__ You must start with the highest age value first."
   ]
  },
  {
   "cell_type": "markdown",
   "metadata": {},
   "source": [
    "Save and rerun your code using different values for age."
   ]
  },
  {
   "cell_type": "code",
   "execution_count": null,
   "metadata": {},
   "outputs": [],
   "source": []
  }
 ],
 "metadata": {
  "kernelspec": {
   "display_name": "Python 3",
   "language": "python",
   "name": "python3"
  },
  "language_info": {
   "codemirror_mode": {
    "name": "ipython",
    "version": 3
   },
   "file_extension": ".py",
   "mimetype": "text/x-python",
   "name": "python",
   "nbconvert_exporter": "python",
   "pygments_lexer": "ipython3",
   "version": "3.8.5"
  }
 },
 "nbformat": 4,
 "nbformat_minor": 4
}
