{
 "cells": [
  {
   "cell_type": "markdown",
   "metadata": {},
   "source": [
    "# Guided Task 3a: Iteration - for loops"
   ]
  },
  {
   "cell_type": "markdown",
   "metadata": {},
   "source": [
    "## Objective\n",
    "\n",
    "In this guided task, you'll work with iteration control flow, using for loops in Python.\n",
    "\n",
    "The syntax of a for loop in Python programming language is −\n",
    "\n",
    "for value in sequence:\n",
    " statement(s)"
   ]
  },
  {
   "cell_type": "markdown",
   "metadata": {},
   "source": [
    "### Average"
   ]
  },
  {
   "cell_type": "markdown",
   "metadata": {},
   "source": [
    "Create a list of numbers and compute their average. "
   ]
  },
  {
   "cell_type": "code",
   "execution_count": null,
   "metadata": {},
   "outputs": [],
   "source": [
    "L = [1,5,3,8,4,7,9,2]\n",
    "\n",
    "sum = 0\n",
    "for n in L:\n",
    "    sum += n\n",
    "average = sum / len(L)\n",
    "average"
   ]
  },
  {
   "cell_type": "markdown",
   "metadata": {},
   "source": [
    "### Factorial\n",
    "\n",
    "Ask the user to unput an integer"
   ]
  },
  {
   "cell_type": "code",
   "execution_count": null,
   "metadata": {},
   "outputs": [],
   "source": []
  },
  {
   "cell_type": "markdown",
   "metadata": {},
   "source": [
    "Display the number's factorial using a for loop.\n",
    "\n",
    "__Note:__ the factorial of a number is that number multiplied by all the preceding numbers.\n",
    "\n",
    "The factorial of 5 is = 5 x 4 x 3 x 2 x 1 = 120\n",
    "<br>\n",
    "Or, if you like = 1 x 2 x 3 x 4 x 5"
   ]
  },
  {
   "cell_type": "code",
   "execution_count": null,
   "metadata": {},
   "outputs": [],
   "source": []
  },
  {
   "cell_type": "markdown",
   "metadata": {},
   "source": [
    "### Combinations\n",
    "\n",
    "You are given a list of sizes and a list of garments. Display all combinations of a size and a garment (you will need more than one for loop for this!).\n",
    "\n",
    "sizes = ['Large', 'Medium', 'Small']\n",
    "garments = ['Shirt', 'Jacket', 'Trousers']"
   ]
  },
  {
   "cell_type": "code",
   "execution_count": null,
   "metadata": {},
   "outputs": [],
   "source": []
  }
 ],
 "metadata": {
  "kernelspec": {
   "display_name": "Python 3",
   "language": "python",
   "name": "python3"
  },
  "language_info": {
   "codemirror_mode": {
    "name": "ipython",
    "version": 3
   },
   "file_extension": ".py",
   "mimetype": "text/x-python",
   "name": "python",
   "nbconvert_exporter": "python",
   "pygments_lexer": "ipython3",
   "version": "3.8.5"
  }
 },
 "nbformat": 4,
 "nbformat_minor": 4
}
