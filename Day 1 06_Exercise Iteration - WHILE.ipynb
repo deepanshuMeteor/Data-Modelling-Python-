{
 "cells": [
  {
   "cell_type": "markdown",
   "metadata": {},
   "source": [
    "# Guided Task 3: Iteration"
   ]
  },
  {
   "cell_type": "markdown",
   "metadata": {},
   "source": [
    "## Objective\n",
    "\n",
    "In this guided task, you'll work with iteration control flow, using while statements in Python."
   ]
  },
  {
   "cell_type": "markdown",
   "metadata": {},
   "source": [
    "### Part 1 - Squares"
   ]
  },
  {
   "cell_type": "markdown",
   "metadata": {},
   "source": [
    "The syntax of a while loop in Python programming language is −\n",
    "\n",
    "while expression:\n",
    "<br>\n",
    "&emsp;statement(s)\n",
    "\n",
    "Create a variable with the value 1."
   ]
  },
  {
   "cell_type": "code",
   "execution_count": null,
   "metadata": {},
   "outputs": [],
   "source": []
  },
  {
   "cell_type": "markdown",
   "metadata": {},
   "source": [
    "Write a while loop that starts at 1 and ends at 100. Within the while loop calculate and display each number and its square. End the loop if that square is bigger than 2000. "
   ]
  },
  {
   "cell_type": "code",
   "execution_count": null,
   "metadata": {},
   "outputs": [],
   "source": []
  },
  {
   "cell_type": "markdown",
   "metadata": {},
   "source": [
    "### Part 2 - Factorial\n",
    "\n",
    "Ask the user to unput an integer"
   ]
  },
  {
   "cell_type": "code",
   "execution_count": null,
   "metadata": {},
   "outputs": [],
   "source": []
  },
  {
   "cell_type": "markdown",
   "metadata": {},
   "source": [
    "Display the number's factorial using a while loop.\n",
    "\n",
    "__Note:__ the factorial of a number is that number multiplied by all the preceding numbers.\n",
    "\n",
    "The factorial of 5 is = 5 x 4 x 3 x 2 x 1 = 120\n",
    "<br>\n",
    "Or, if you like = 1 x 2 x 3 x 4 x 5"
   ]
  },
  {
   "cell_type": "code",
   "execution_count": null,
   "metadata": {},
   "outputs": [],
   "source": []
  },
  {
   "cell_type": "markdown",
   "metadata": {},
   "source": [
    "### Part 3 - Investment\n",
    "\n",
    "Calculates how many years it will take an initial investment of £100 to grow to a target value of £1000 if the interest rate is 10%.\n",
    "\n",
    "__Tip:__ Don’t start writing code until you've got a plan of action!\n",
    "\n",
    "To make your calculation more usable by inputting the following values:\n",
    "- Initial investment\n",
    "- Target value\n",
    "- Interest rate "
   ]
  },
  {
   "cell_type": "code",
   "execution_count": null,
   "metadata": {},
   "outputs": [],
   "source": []
  }
 ],
 "metadata": {
  "kernelspec": {
   "display_name": "Python 3",
   "language": "python",
   "name": "python3"
  },
  "language_info": {
   "codemirror_mode": {
    "name": "ipython",
    "version": 3
   },
   "file_extension": ".py",
   "mimetype": "text/x-python",
   "name": "python",
   "nbconvert_exporter": "python",
   "pygments_lexer": "ipython3",
   "version": "3.8.5"
  }
 },
 "nbformat": 4,
 "nbformat_minor": 4
}
