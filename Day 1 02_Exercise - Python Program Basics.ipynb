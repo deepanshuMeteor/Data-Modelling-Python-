{
 "cells": [
  {
   "cell_type": "markdown",
   "metadata": {},
   "source": [
    "# Guided Task 1: Python Program Basics"
   ]
  },
  {
   "cell_type": "markdown",
   "metadata": {},
   "source": [
    "## Objective\n",
    "\n",
    "In this guided task, you'll use Jupyter Notebooks to:\n",
    "- Create a Python application\n",
    "- Perform arithmetic operations\n",
    "- Input values using keyboard and display information\n",
    "- Use casting to convert strings to integers and floats\n"
   ]
  },
  {
   "cell_type": "markdown",
   "metadata": {},
   "source": [
    "### Part 1 - Display Hello World!\n",
    "\n",
    "Type the following text in the code page that is open:\n",
    "\n",
    "\n",
    "print('Hello World!')"
   ]
  },
  {
   "cell_type": "code",
   "execution_count": null,
   "metadata": {},
   "outputs": [],
   "source": []
  },
  {
   "cell_type": "markdown",
   "metadata": {},
   "source": [
    "### Part 2.1 - Display a message using variables\n",
    "\n",
    "Create two variables to hold someone's name and age. Type:\n",
    "\n",
    "\n",
    "username='Bob'\n",
    "<br>\n",
    "age=32\n",
    "<br>\n",
    "print(username,'is',age,'years old')"
   ]
  },
  {
   "cell_type": "code",
   "execution_count": null,
   "metadata": {},
   "outputs": [],
   "source": []
  },
  {
   "cell_type": "markdown",
   "metadata": {},
   "source": [
    "Modify your code to use the '+' character to add strings:\n",
    "\n",
    "username='Bob'\n",
    "<br>\n",
    "age=32\n",
    "<br>\n",
    "print(username+'is'+age+'years old')"
   ]
  },
  {
   "cell_type": "code",
   "execution_count": null,
   "metadata": {},
   "outputs": [],
   "source": []
  },
  {
   "cell_type": "markdown",
   "metadata": {},
   "source": [
    "What is wrong? Look at the error. Can you correct it?"
   ]
  },
  {
   "cell_type": "code",
   "execution_count": null,
   "metadata": {},
   "outputs": [],
   "source": []
  },
  {
   "cell_type": "markdown",
   "metadata": {},
   "source": [
    "Does the output look right or are the strings stuck together? That's what + and strings does!\n",
    "<br>\n",
    "<br>\n",
    "Modify the print statement by inserting 3 spaces in the strings as follows:\n",
    "<br>\n",
    "print(username,' is '+age+' years old')"
   ]
  },
  {
   "cell_type": "code",
   "execution_count": null,
   "metadata": {},
   "outputs": [],
   "source": []
  },
  {
   "cell_type": "markdown",
   "metadata": {},
   "source": [
    "### Part 2.2 - Get user input\n",
    "\n",
    "Write the following code to get the username and age by using the keyboard.\n",
    "\n",
    "\n",
    "username=input('Please enter your name')\n",
    "<br>\n",
    "age = input('Please enter your age')\n",
    "<br>\n",
    "print(username,'is',age,'years old')"
   ]
  },
  {
   "cell_type": "code",
   "execution_count": null,
   "metadata": {},
   "outputs": [],
   "source": []
  },
  {
   "cell_type": "markdown",
   "metadata": {},
   "source": [
    "### Part 3 - Arithmetic operations\n",
    "A box contains 50 crayons which have to be distributed to 6 children. Each child has to get the same number of whole crayons (no breaking). Calculate the number of crayons each child will get."
   ]
  },
  {
   "cell_type": "code",
   "execution_count": null,
   "metadata": {},
   "outputs": [],
   "source": []
  },
  {
   "cell_type": "markdown",
   "metadata": {},
   "source": [
    "### Part 4 - Casting variables\n",
    "\n",
    "Input the length of the first side of a rectangle.\n",
    "\n",
    "Use a suitable variable name such as length.\n",
    "\n",
    "You must cast (convert) the text you input to an integer type (int).\n",
    "\n",
    "__Tip:__ Please review the example code on the slides if you're not sure how to\n",
    "achieve this"
   ]
  },
  {
   "cell_type": "code",
   "execution_count": null,
   "metadata": {},
   "outputs": [],
   "source": []
  },
  {
   "cell_type": "markdown",
   "metadata": {},
   "source": [
    "Input the length of the second side of the rectangle.\n",
    "\n",
    "Use a suitable variable name such as width.\n",
    "\n",
    "Again, cast the input text to an integer type (int).\n"
   ]
  },
  {
   "cell_type": "code",
   "execution_count": null,
   "metadata": {},
   "outputs": [],
   "source": []
  },
  {
   "cell_type": "markdown",
   "metadata": {},
   "source": [
    "Calculate and display the perimeter of the rectangle. "
   ]
  },
  {
   "cell_type": "code",
   "execution_count": null,
   "metadata": {},
   "outputs": [],
   "source": []
  },
  {
   "cell_type": "markdown",
   "metadata": {},
   "source": [
    "Well done, you’ve completed this guided task!"
   ]
  }
 ],
 "metadata": {
  "kernelspec": {
   "display_name": "Python 3",
   "language": "python",
   "name": "python3"
  },
  "language_info": {
   "codemirror_mode": {
    "name": "ipython",
    "version": 3
   },
   "file_extension": ".py",
   "mimetype": "text/x-python",
   "name": "python",
   "nbconvert_exporter": "python",
   "pygments_lexer": "ipython3",
   "version": "3.8.5"
  }
 },
 "nbformat": 4,
 "nbformat_minor": 4
}
